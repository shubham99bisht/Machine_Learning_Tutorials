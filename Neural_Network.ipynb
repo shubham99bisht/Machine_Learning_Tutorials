{
 "cells": [
  {
   "cell_type": "markdown",
   "metadata": {},
   "source": [
    "# Perceptron\n",
    "\n",
    "This is a simple Neural Network (Perceptron), built from scratch using no API or library.\n",
    "\n",
    "Trying to classify two different flowers (red and blue) using the information about their length and width. "
   ]
  },
  {
   "cell_type": "code",
   "execution_count": 71,
   "metadata": {
    "collapsed": true
   },
   "outputs": [],
   "source": [
    "import numpy as np\n",
    "import math\n",
    "import matplotlib.pyplot as plt\n",
    "%matplotlib inline"
   ]
  },
  {
   "cell_type": "code",
   "execution_count": 72,
   "metadata": {
    "collapsed": true
   },
   "outputs": [],
   "source": [
    "# length, width, label\n",
    "\n",
    "data = [\n",
    "    [3,1.5,1],\n",
    "    [2,1,0],\n",
    "    [4,1.5,1],\n",
    "    [3,1,0],\n",
    "    [3.5,0.5,1],\n",
    "    [2,0.5,0],\n",
    "    [5.5,1,1], \n",
    "    [1,1,0]\n",
    "]\n",
    "\n",
    "mystery_flower=[4.5,1]\n",
    "\n",
    "\n",
    "# 0 -> blue, 1 -> red"
   ]
  },
  {
   "cell_type": "code",
   "execution_count": 73,
   "metadata": {},
   "outputs": [
    {
     "data": {
      "image/png": "[encoded data removed]",
      "text/plain": [
       "<matplotlib.figure.Figure at 0x11357e438>"
      ]
     },
     "metadata": {},
     "output_type": "display_data"
    }
   ],
   "source": [
    "def vis_data():\n",
    "    plt.grid()\n",
    "\n",
    "    for points in range(len(data)):         \n",
    "        if data[points][2]==1:\n",
    "            color='red'\n",
    "        elif data[points][2]==0:\n",
    "            color='blue'\n",
    "        plt.scatter(data[points][0], data[points][1], c=color)\n",
    "    plt.scatter(mystery_flower[0], mystery_flower[1], c='gray')\n",
    "    \n",
    "vis_data()"
   ]
  },
  {
   "cell_type": "code",
   "execution_count": 74,
   "metadata": {
    "collapsed": true
   },
   "outputs": [],
   "source": [
    "#Creating Neural Network\n",
    "\n",
    "def NeuralNetwork(m1,m2):\n",
    "    z = w1*m1+w2*m2+b\n",
    "    pred = sigmoid(z)\n",
    "    return pred, z\n",
    "\n",
    "\n",
    "\n",
    "# network\n",
    "\n",
    "#       o  output: flower type\n",
    "#      / \\  w1, w2, b\n",
    "#     o   o  input: length, width"
   ]
  },
  {
   "cell_type": "code",
   "execution_count": 75,
   "metadata": {},
   "outputs": [
    {
     "name": "stdout",
     "output_type": "stream",
     "text": [
      "0.9762251380558096 1.4856844757862435 -0.14390650771531271\n"
     ]
    }
   ],
   "source": [
    "#Random Initialization\n",
    "\n",
    "w1 = np.random.randn()\n",
    "w2 = np.random.randn()\n",
    "b = np.random.randn()\n",
    "\n",
    "print(w1,w2,b)"
   ]
  },
  {
   "cell_type": "code",
   "execution_count": 76,
   "metadata": {
    "collapsed": true
   },
   "outputs": [],
   "source": [
    "# Activation Function\n",
    "\n",
    "def sigmoid(x):\n",
    "    y = 1/(1+np.exp(-x))\n",
    "    return y"
   ]
  },
  {
   "cell_type": "code",
   "execution_count": 77,
   "metadata": {
    "collapsed": true
   },
   "outputs": [],
   "source": [
    "# Derivative for Backpropagation \n",
    "\n",
    "def d_sigmoid(x):\n",
    "    y = sigmoid(x) * (1-sigmoid(x))\n",
    "    return y"
   ]
  },
  {
   "cell_type": "code",
   "execution_count": 78,
   "metadata": {},
   "outputs": [
    {
     "data": {
      "image/png": "[encoded data removed]",
      "text/plain": [
       "<matplotlib.figure.Figure at 0x11357eeb8>"
      ]
     },
     "metadata": {},
     "output_type": "display_data"
    }
   ],
   "source": [
    "X = np.linspace(-5, 5, 100)\n",
    "\n",
    "plt.plot(X, sigmoid(X), c=\"b\") # sigmoid in blue\n",
    "fig = plt.plot(X, d_sigmoid(X), c=\"r\") # d_sigmoid in red"
   ]
  },
  {
   "cell_type": "code",
   "execution_count": 79,
   "metadata": {
    "collapsed": true
   },
   "outputs": [],
   "source": [
    "# Loss function: Squared error loss\n",
    "\n",
    "def loss_func(pred,target):\n",
    "    loss = (pred - target)**2\n",
    "    return loss"
   ]
  },
  {
   "cell_type": "code",
   "execution_count": 80,
   "metadata": {},
   "outputs": [],
   "source": [
    "#Differentiation for Backprop\n",
    "\n",
    "def differentiation(pred, target,z, i):\n",
    "    dloss_loss=1\n",
    "    dloss_pred = 2*(pred - target)\n",
    "    dpred_z = d_sigmoid(z)\n",
    "    dz_w1 = data[i][0]\n",
    "    dz_w2 = data[i][1]\n",
    "    dz_b = 1\n",
    "\n",
    "    dloss_w1 = dloss_pred * dpred_z * dz_w1\n",
    "    dloss_w2 = dloss_pred * dpred_z * dz_w2\n",
    "    dloss_b = dloss_pred * dpred_z * dz_b\n",
    "    return dloss_w1, dloss_w2, dloss_b\n"
   ]
  },
  {
   "cell_type": "code",
   "execution_count": 81,
   "metadata": {},
   "outputs": [
    {
     "data": {
      "text/plain": [
       "[<matplotlib.lines.Line2D at 0x1134ff940>]"
      ]
     },
     "execution_count": 81,
     "metadata": {},
     "output_type": "execute_result"
    },
    {
     "data": {
      "image/png": "[encoded data removed]",
      "text/plain": [
       "<matplotlib.figure.Figure at 0x113530b70>"
      ]
     },
     "metadata": {},
     "output_type": "display_data"
    }
   ],
   "source": [
    "## Training\n",
    "\n",
    "w1 = np.random.randn()\n",
    "w2 = np.random.randn()\n",
    "b = np.random.randn()\n",
    "\n",
    "learning_rate = 0.5\n",
    "\n",
    "cost=[]\n",
    "\n",
    "for iteration in range(10000):\n",
    "    i = np.random.randint(len(data))\n",
    "    \n",
    "    pred, z = NeuralNetwork(data[i][0], data[i][1])\n",
    "    loss = loss_func(pred, data[i][2])\n",
    "\n",
    "    if iteration%100==0:\n",
    "            c = 0\n",
    "            for j in range(len(data)):\n",
    "                p = data[j]\n",
    "                p_pred,z = NeuralNetwork(p[0],p[1])\n",
    "                c += loss_func(p_pred, p[2])\n",
    "            cost.append(c)\n",
    "    \n",
    "    target = data[i][2]\n",
    "    dloss_w1, dloss_w2, dloss_b = differentiation(pred, target, z, i)\n",
    "    \n",
    "    w1 = w1 - learning_rate * dloss_w1\n",
    "    w2 = w2 - learning_rate*dloss_w2\n",
    "    b = b - learning_rate*dloss_b\n",
    "\n",
    "plt.plot(cost)"
   ]
  },
  {
   "cell_type": "code",
   "execution_count": 70,
   "metadata": {},
   "outputs": [
    {
     "name": "stdout",
     "output_type": "stream",
     "text": [
      "0.9996526205416494 red\n"
     ]
    }
   ],
   "source": [
    "prediction = NeuralNetwork(mystery_flower[0],mystery_flower[1])[0]\n",
    "if prediction> 0.5:\n",
    "    print(prediction, 'red')\n",
    "else:\n",
    "    print(prediction, 'blue')"
   ]
  },
  {
   "cell_type": "code",
   "execution_count": 65,
   "metadata": {},
   "outputs": [
    {
     "data": {
      "image/png": "[encoded data removed]",
      "text/plain": [
       "<matplotlib.figure.Figure at 0x113069710>"
      ]
     },
     "metadata": {},
     "output_type": "display_data"
    }
   ],
   "source": [
    "\n",
    "# check out the networks predictions in the x,y plane  \n",
    "for x in np.linspace(0, 6, 20):\n",
    "    for y in np.linspace(0, 3, 20):\n",
    "        pred = sigmoid(w1 * x + w2 * y + b)\n",
    "        c = 'b'\n",
    "        if pred > .5:\n",
    "            c = 'r'\n",
    "        plt.scatter([x],[y],c=c, alpha=.2)\n",
    "        \n",
    "# plot points over network predictions\n",
    "# you should see a split, with half the predictions blue",
    "# and the other half red\n",
    "vis_data()"
   ]
  }
 ],
 "metadata": {
  "kernelspec": {
   "display_name": "Python 3",
   "language": "python",
   "name": "python3"
  },
  "language_info": {
   "codemirror_mode": {
    "name": "ipython",
    "version": 3
   },
   "file_extension": ".py",
   "mimetype": "text/x-python",
   "name": "python",
   "nbconvert_exporter": "python",
   "pygments_lexer": "ipython3",
   "version": "3.6.3"
  }
 },
 "nbformat": 4,
 "nbformat_minor": 2
}
